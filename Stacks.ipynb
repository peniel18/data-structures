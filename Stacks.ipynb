{
 "cells": [
  {
   "cell_type": "code",
   "execution_count": 1,
   "id": "94fb5bd5-9caa-487a-83af-fc0be3d96dc0",
   "metadata": {},
   "outputs": [],
   "source": [
    "class ArrayStack: \n",
    "    \"\"\"\n",
    "    LIFO STACK IMPLEMENTATION \n",
    "    \"\"\"\n",
    "\n",
    "    def __init__(self):\n",
    "        self._data = []\n",
    "\n",
    "    def __len__(self): \n",
    "        \"\"\"\n",
    "        Returns the length of the data \n",
    "        \"\"\"\n",
    "        return len(self._data)\n",
    "\n",
    "    def is_empty(self):\n",
    "        \"\"\"\n",
    "        Returns True if the stack is empty \n",
    "        \"\"\"\n",
    "        return len(self._data) == 0 \n",
    "\n",
    "    def push(self, element):\n",
    "        \"\"\"\n",
    "        Add element to the top of the stack\n",
    "        \"\"\"\n",
    "        self._data.append(element)\n",
    "\n",
    "\n",
    "    def top(self):\n",
    "        if self.is_empty():\n",
    "            raise Empty(\"Stack is empty\")\n",
    "        return self._data[-1]\n",
    "\n",
    "    def pop(self):\n",
    "        if self.is_empty():\n",
    "            raise Empty(\"Stack is empty\")\n",
    "        return self._data.pop()\n",
    "\n",
    "        "
   ]
  },
  {
   "cell_type": "code",
   "execution_count": 2,
   "id": "5e38fa48-fef4-4af2-b628-655bb1789db6",
   "metadata": {},
   "outputs": [],
   "source": [
    "stack = ArrayStack()"
   ]
  },
  {
   "cell_type": "code",
   "execution_count": 3,
   "id": "8114bd69-f500-4c53-bda6-194b187b9ad4",
   "metadata": {},
   "outputs": [
    {
     "data": {
      "text/plain": [
       "__main__.ArrayStack"
      ]
     },
     "execution_count": 3,
     "metadata": {},
     "output_type": "execute_result"
    }
   ],
   "source": [
    "type(stack)"
   ]
  },
  {
   "cell_type": "code",
   "execution_count": 4,
   "id": "dc4e4614-a3e5-47f0-ae28-2a449acc8a04",
   "metadata": {},
   "outputs": [
    {
     "data": {
      "text/plain": [
       "True"
      ]
     },
     "execution_count": 4,
     "metadata": {},
     "output_type": "execute_result"
    }
   ],
   "source": [
    "stack.is_empty()"
   ]
  },
  {
   "cell_type": "code",
   "execution_count": 6,
   "id": "b5f520aa-d91d-4f90-8d31-ebd5faaaa48c",
   "metadata": {},
   "outputs": [
    {
     "data": {
      "text/plain": [
       "0"
      ]
     },
     "execution_count": 6,
     "metadata": {},
     "output_type": "execute_result"
    }
   ],
   "source": [
    "stack.__len__()"
   ]
  },
  {
   "cell_type": "code",
   "execution_count": 7,
   "id": "76a6176c-93e2-4be7-938b-67e464ed57a1",
   "metadata": {},
   "outputs": [],
   "source": [
    "stack.push(3)"
   ]
  },
  {
   "cell_type": "code",
   "execution_count": 9,
   "id": "503e6137-ba4f-40eb-86df-944f04190a18",
   "metadata": {},
   "outputs": [
    {
     "data": {
      "text/plain": [
       "3"
      ]
     },
     "execution_count": 9,
     "metadata": {},
     "output_type": "execute_result"
    }
   ],
   "source": [
    "stack.top()"
   ]
  },
  {
   "cell_type": "code",
   "execution_count": 10,
   "id": "a0f111d7-b2de-4eb6-be84-0bcd8ed1bb29",
   "metadata": {},
   "outputs": [],
   "source": [
    "stack.push(2)"
   ]
  },
  {
   "cell_type": "code",
   "execution_count": 12,
   "id": "dfeaef1d-85d1-4ec6-98c0-ddd410e51811",
   "metadata": {},
   "outputs": [
    {
     "data": {
      "text/plain": [
       "2"
      ]
     },
     "execution_count": 12,
     "metadata": {},
     "output_type": "execute_result"
    }
   ],
   "source": [
    "stack.top()"
   ]
  },
  {
   "cell_type": "code",
   "execution_count": 15,
   "id": "b2e3df2b-3201-44c5-8219-c6ffca3cf65c",
   "metadata": {},
   "outputs": [
    {
     "data": {
      "text/plain": [
       "2"
      ]
     },
     "execution_count": 15,
     "metadata": {},
     "output_type": "execute_result"
    }
   ],
   "source": [
    "stack.pop()"
   ]
  },
  {
   "cell_type": "code",
   "execution_count": 14,
   "id": "682c258f-dc68-4f1d-bd32-1d99d9966fe0",
   "metadata": {},
   "outputs": [],
   "source": [
    "\n",
    "\n",
    "\n",
    "# Rerverse the content of a file \n",
    "def reverseFile(filename):\n",
    "    st = ArrayStack()\n",
    "    file = open(filename)\n",
    "    for line in file: \n",
    "        st.push(line.rstrip('\\n'))\n",
    "    file.close()\n",
    "\n",
    "    # write to a new file\n",
    "    NewFile = open(filename, \"w\")\n",
    "    while not st.is_empty():\n",
    "        NewFile.write(st.pop() + \"\\n\")\n",
    "    NewFile.close()\n",
    "    \n",
    "\n",
    "    "
   ]
  },
  {
   "cell_type": "code",
   "execution_count": null,
   "id": "3b7e489c-7a8d-4616-8de7-483a7bc93174",
   "metadata": {},
   "outputs": [],
   "source": []
  }
 ],
 "metadata": {
  "kernelspec": {
   "display_name": "Python 3 (ipykernel)",
   "language": "python",
   "name": "python3"
  },
  "language_info": {
   "codemirror_mode": {
    "name": "ipython",
    "version": 3
   },
   "file_extension": ".py",
   "mimetype": "text/x-python",
   "name": "python",
   "nbconvert_exporter": "python",
   "pygments_lexer": "ipython3",
   "version": "3.12.4"
  }
 },
 "nbformat": 4,
 "nbformat_minor": 5
}
